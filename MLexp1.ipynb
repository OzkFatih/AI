{
  "cells": [
    {
      "cell_type": "markdown",
      "metadata": {
        "id": "8U7HUyhLNPZT"
      },
      "source": [
        "**Machine Learning**"
      ]
    },
    {
      "cell_type": "code",
      "execution_count": 1,
      "metadata": {
        "colab": {
          "base_uri": "https://localhost:8080/"
        },
        "id": "5jI0wWuGNPZb",
        "outputId": "c8d7a9d0-20c6-4465-c6d3-767b9aee114e"
      },
      "outputs": [],
      "source": [
        "#libraries\n",
        "import  numpy as np\n",
        "import pandas as pd\n",
        "import  matplotlib.pyplot as plt\n",
        "import os"
      ]
    },
    {
      "cell_type": "code",
      "execution_count": 3,
      "metadata": {
        "colab": {
          "base_uri": "https://localhost:8080/",
          "height": 415
        },
        "id": "KqYL4pQMNPZc",
        "outputId": "e62cfb9e-74bc-4064-fb07-be24c4f94748"
      },
      "outputs": [
        {
          "name": "stdout",
          "output_type": "stream",
          "text": [
            "<class 'pandas.core.frame.DataFrame'>\n",
            "RangeIndex: 898 entries, 0 to 897\n",
            "Data columns (total 35 columns):\n",
            " #   Column         Non-Null Count  Dtype  \n",
            "---  ------         --------------  -----  \n",
            " 0   AREA           898 non-null    int64  \n",
            " 1   PERIMETER      898 non-null    float64\n",
            " 2   MAJOR_AXIS     898 non-null    float64\n",
            " 3   MINOR_AXIS     898 non-null    float64\n",
            " 4   ECCENTRICITY   898 non-null    float64\n",
            " 5   EQDIASQ        898 non-null    float64\n",
            " 6   SOLIDITY       898 non-null    float64\n",
            " 7   CONVEX_AREA    898 non-null    int64  \n",
            " 8   EXTENT         898 non-null    float64\n",
            " 9   ASPECT_RATIO   898 non-null    float64\n",
            " 10  ROUNDNESS      898 non-null    float64\n",
            " 11  COMPACTNESS    898 non-null    float64\n",
            " 12  SHAPEFACTOR_1  898 non-null    float64\n",
            " 13  SHAPEFACTOR_2  898 non-null    float64\n",
            " 14  SHAPEFACTOR_3  898 non-null    float64\n",
            " 15  SHAPEFACTOR_4  898 non-null    float64\n",
            " 16  MeanRR         898 non-null    float64\n",
            " 17  MeanRG         898 non-null    float64\n",
            " 18  MeanRB         898 non-null    float64\n",
            " 19  StdDevRR       898 non-null    float64\n",
            " 20  StdDevRG       898 non-null    float64\n",
            " 21  StdDevRB       898 non-null    float64\n",
            " 22  SkewRR         898 non-null    float64\n",
            " 23  SkewRG         898 non-null    float64\n",
            " 24  SkewRB         898 non-null    float64\n",
            " 25  KurtosisRR     898 non-null    float64\n",
            " 26  KurtosisRG     898 non-null    float64\n",
            " 27  KurtosisRB     898 non-null    float64\n",
            " 28  EntropyRR      898 non-null    int64  \n",
            " 29  EntropyRG      898 non-null    int64  \n",
            " 30  EntropyRB      898 non-null    int64  \n",
            " 31  ALLdaub4RR     898 non-null    float64\n",
            " 32  ALLdaub4RG     898 non-null    float64\n",
            " 33  ALLdaub4RB     898 non-null    float64\n",
            " 34  Class          898 non-null    object \n",
            "dtypes: float64(29), int64(5), object(1)\n",
            "memory usage: 245.7+ KB\n",
            "None\n"
          ]
        }
      ],
      "source": [
        "dataset=pd.read_excel(\"Date_Fruit_Datasets.xlsx\")\n",
        "#reading excel dataset and turning it into a dataframe\n",
        "\n",
        "print(dataset.info())\n"
      ]
    },
    {
      "cell_type": "code",
      "execution_count": 5,
      "metadata": {
        "id": "n0vIvo-ONPZd",
        "outputId": "5e0b2a02-7b74-4fdf-d8d2-c0e7511e3e3e"
      },
      "outputs": [
        {
          "name": "stdout",
          "output_type": "stream",
          "text": [
            "0      BERHI\n",
            "1      BERHI\n",
            "2      BERHI\n",
            "3      BERHI\n",
            "4      BERHI\n",
            "       ...  \n",
            "893    SOGAY\n",
            "894    SOGAY\n",
            "895    SOGAY\n",
            "896    SOGAY\n",
            "897    SOGAY\n",
            "Name: Class, Length: 898, dtype: object\n"
          ]
        }
      ],
      "source": [
        "xsample=dataset.iloc[:,:-1]\n",
        "ysample=dataset.Class\n",
        "print(ysample)"
      ]
    },
    {
      "cell_type": "code",
      "execution_count": 6,
      "metadata": {
        "id": "y56UG51wNPZe",
        "outputId": "9d460dc6-80e9-49ab-f7cd-4e4cfeda9716"
      },
      "outputs": [
        {
          "name": "stdout",
          "output_type": "stream",
          "text": [
            "                   AREA  PERIMETER  MAJOR_AXIS  MINOR_AXIS  ECCENTRICITY  \\\n",
            "AREA           1.000000   0.956494    0.878893    0.954899     -0.370303   \n",
            "PERIMETER      0.956494   1.000000    0.960734    0.859990     -0.166816   \n",
            "MAJOR_AXIS     0.878893   0.960734    1.000000    0.721133      0.063090   \n",
            "MINOR_AXIS     0.954899   0.859990    0.721133    1.000000     -0.607120   \n",
            "ECCENTRICITY  -0.370303  -0.166816    0.063090   -0.607120      1.000000   \n",
            "EQDIASQ        0.993243   0.959938    0.886277    0.948006     -0.335085   \n",
            "SOLIDITY       0.027371  -0.133857   -0.166982    0.059613     -0.220434   \n",
            "CONVEX_AREA    0.998886   0.963489    0.886948    0.951470     -0.356565   \n",
            "EXTENT        -0.086286  -0.214632   -0.279951    0.028003     -0.342775   \n",
            "ASPECT_RATIO  -0.095342   0.018308    0.111631   -0.150407      0.110238   \n",
            "ROUNDNESS      0.044346  -0.235744   -0.355258    0.243655     -0.659626   \n",
            "COMPACTNESS    0.315197   0.078554   -0.164403    0.551966     -0.917470   \n",
            "SHAPEFACTOR_1 -0.124025  -0.011718    0.081976   -0.176214      0.114084   \n",
            "SHAPEFACTOR_2 -0.861870  -0.934379   -0.959569   -0.736051     -0.026945   \n",
            "SHAPEFACTOR_3  0.332349   0.103959   -0.136056    0.572201     -0.967224   \n",
            "SHAPEFACTOR_4  0.039321  -0.036744   -0.048096   -0.004244     -0.020083   \n",
            "MeanRR        -0.353447  -0.451033   -0.530236   -0.196257     -0.252334   \n",
            "MeanRG        -0.380730  -0.468553   -0.538479   -0.231831     -0.238878   \n",
            "MeanRB        -0.376241  -0.448371   -0.506743   -0.246280     -0.180566   \n",
            "StdDevRR      -0.320764  -0.386137   -0.442289   -0.196623     -0.142801   \n",
            "StdDevRG      -0.172480  -0.201908   -0.248626   -0.077724     -0.097034   \n",
            "StdDevRB      -0.048223  -0.176466   -0.284034    0.095411     -0.393799   \n",
            "SkewRR         0.376400   0.488147    0.551523    0.229831      0.223854   \n",
            "SkewRG         0.401733   0.484734    0.550014    0.259649      0.184643   \n",
            "SkewRB         0.433323   0.415364    0.412055    0.396219     -0.177619   \n",
            "KurtosisRR     0.218253   0.313334    0.366579    0.093267      0.215284   \n",
            "KurtosisRG     0.326335   0.398168    0.460468    0.189532      0.194135   \n",
            "KurtosisRB     0.381096   0.364269    0.347940    0.354742     -0.179358   \n",
            "EntropyRR     -0.359332  -0.266206   -0.146311   -0.466776      0.431537   \n",
            "EntropyRG     -0.393124  -0.294308   -0.167972   -0.501442      0.463969   \n",
            "EntropyRB     -0.506256  -0.416802   -0.297395   -0.585234      0.442189   \n",
            "ALLdaub4RR    -0.353446  -0.451028   -0.530231   -0.196256     -0.252331   \n",
            "ALLdaub4RG    -0.380747  -0.468571   -0.538497   -0.231847     -0.238875   \n",
            "ALLdaub4RB    -0.376277  -0.448409   -0.506782   -0.246312     -0.180563   \n",
            "\n",
            "                EQDIASQ  SOLIDITY  CONVEX_AREA    EXTENT  ASPECT_RATIO  ...  \\\n",
            "AREA           0.993243  0.027371     0.998886 -0.086286     -0.095342  ...   \n",
            "PERIMETER      0.959938 -0.133857     0.963489 -0.214632      0.018308  ...   \n",
            "MAJOR_AXIS     0.886277 -0.166982     0.886948 -0.279951      0.111631  ...   \n",
            "MINOR_AXIS     0.948006  0.059613     0.951470  0.028003     -0.150407  ...   \n",
            "ECCENTRICITY  -0.335085 -0.220434    -0.356565 -0.342775      0.110238  ...   \n",
            "EQDIASQ        1.000000  0.018777     0.993397 -0.112353     -0.157370  ...   \n",
            "SOLIDITY       0.018777  1.000000    -0.016449  0.392552     -0.189234  ...   \n",
            "CONVEX_AREA    0.993397 -0.016449     1.000000 -0.107403     -0.095457  ...   \n",
            "EXTENT        -0.112353  0.392552    -0.107403  1.000000      0.067207  ...   \n",
            "ASPECT_RATIO  -0.157370 -0.189234    -0.095457  0.067207      1.000000  ...   \n",
            "ROUNDNESS      0.035564  0.611010     0.015083  0.470357     -0.410407  ...   \n",
            "COMPACTNESS    0.301535  0.384826     0.297794  0.365187     -0.422474  ...   \n",
            "SHAPEFACTOR_1 -0.186715 -0.188307    -0.124221  0.072829      0.999515  ...   \n",
            "SHAPEFACTOR_2 -0.887398  0.047237    -0.865527  0.216175     -0.055882  ...   \n",
            "SHAPEFACTOR_3  0.304564  0.367759     0.313861  0.394855     -0.243065  ...   \n",
            "SHAPEFACTOR_4  0.037291  0.874596     0.005152  0.229890     -0.134463  ...   \n",
            "MeanRR        -0.372170  0.076949    -0.358605  0.352862     -0.010730  ...   \n",
            "MeanRG        -0.408378  0.054494    -0.385639  0.337611      0.076408  ...   \n",
            "MeanRB        -0.400673  0.052076    -0.380753  0.321018      0.076433  ...   \n",
            "StdDevRR      -0.320398 -0.043782    -0.319185  0.208429     -0.118257  ...   \n",
            "StdDevRG      -0.159641 -0.123630    -0.166744  0.114351     -0.110735  ...   \n",
            "StdDevRB      -0.065181  0.092009    -0.054333  0.290517     -0.148727  ...   \n",
            "SkewRR         0.393308 -0.185437     0.386409 -0.386663      0.041858  ...   \n",
            "SkewRG         0.418627 -0.095361     0.407362 -0.340028     -0.008858  ...   \n",
            "SkewRB         0.424774  0.033952     0.429640 -0.077197      0.050809  ...   \n",
            "KurtosisRR     0.225588 -0.128394     0.225350 -0.330393      0.040208  ...   \n",
            "KurtosisRG     0.336750 -0.062084     0.330451 -0.322600     -0.023360  ...   \n",
            "KurtosisRB     0.369371  0.069564     0.375691 -0.046479      0.058655  ...   \n",
            "EntropyRR     -0.346338 -0.038697    -0.356994 -0.217372      0.058019  ...   \n",
            "EntropyRG     -0.376846 -0.040841    -0.390580 -0.207224      0.061742  ...   \n",
            "EntropyRB     -0.490680 -0.057491    -0.503137 -0.179696      0.067152  ...   \n",
            "ALLdaub4RR    -0.372169  0.076950    -0.358603  0.352850     -0.010716  ...   \n",
            "ALLdaub4RG    -0.408394  0.054499    -0.385656  0.337605      0.076399  ...   \n",
            "ALLdaub4RB    -0.400709  0.052089    -0.380788  0.321010      0.076425  ...   \n",
            "\n",
            "                 SkewRB  KurtosisRR  KurtosisRG  KurtosisRB  EntropyRR  \\\n",
            "AREA           0.433323    0.218253    0.326335    0.381096  -0.359332   \n",
            "PERIMETER      0.415364    0.313334    0.398168    0.364269  -0.266206   \n",
            "MAJOR_AXIS     0.412055    0.366579    0.460468    0.347940  -0.146311   \n",
            "MINOR_AXIS     0.396219    0.093267    0.189532    0.354742  -0.466776   \n",
            "ECCENTRICITY  -0.177619    0.215284    0.194135   -0.179358   0.431537   \n",
            "EQDIASQ        0.424774    0.225588    0.336750    0.369371  -0.346338   \n",
            "SOLIDITY       0.033952   -0.128394   -0.062084    0.069564  -0.038697   \n",
            "CONVEX_AREA    0.429640    0.225350    0.330451    0.375691  -0.356994   \n",
            "EXTENT        -0.077197   -0.330393   -0.322600   -0.046479  -0.217372   \n",
            "ASPECT_RATIO   0.050809    0.040208   -0.023360    0.058655   0.058019   \n",
            "ROUNDNESS      0.031867   -0.363206   -0.283379    0.019284  -0.272178   \n",
            "COMPACTNESS    0.088868   -0.274872   -0.235948    0.094863  -0.437065   \n",
            "SHAPEFACTOR_1  0.037790    0.031106   -0.035550    0.047554   0.065462   \n",
            "SHAPEFACTOR_2 -0.387306   -0.318905   -0.409886   -0.333756   0.183638   \n",
            "SHAPEFACTOR_3  0.122446   -0.270281   -0.240478    0.128764  -0.448088   \n",
            "SHAPEFACTOR_4  0.088658    0.056523    0.100824    0.091908   0.133102   \n",
            "MeanRR        -0.642350   -0.667046   -0.822967   -0.467168  -0.706127   \n",
            "MeanRG        -0.633860   -0.588062   -0.762069   -0.430798  -0.653542   \n",
            "MeanRB        -0.721929   -0.595454   -0.769408   -0.514023  -0.644234   \n",
            "StdDevRR      -0.469298   -0.568590   -0.783163   -0.471127  -0.484317   \n",
            "StdDevRG      -0.364075   -0.462045   -0.636689   -0.431242  -0.414341   \n",
            "StdDevRB      -0.255375   -0.530816   -0.623097   -0.322998  -0.505710   \n",
            "SkewRR         0.650360    0.821821    0.740101    0.484627   0.540111   \n",
            "SkewRG         0.753464    0.735084    0.890378    0.583004   0.612033   \n",
            "SkewRB         1.000000    0.526151    0.638559    0.801141   0.359532   \n",
            "KurtosisRR     0.526151    1.000000    0.791051    0.595030   0.473657   \n",
            "KurtosisRG     0.638559    0.791051    1.000000    0.666257   0.564689   \n",
            "KurtosisRB     0.801141    0.595030    0.666257    1.000000   0.223243   \n",
            "EntropyRR      0.359532    0.473657    0.564689    0.223243   1.000000   \n",
            "EntropyRG      0.337443    0.415812    0.508634    0.181859   0.981412   \n",
            "EntropyRB      0.317338    0.361340    0.428476    0.175200   0.937108   \n",
            "ALLdaub4RR    -0.642347   -0.667044   -0.822967   -0.467168  -0.706130   \n",
            "ALLdaub4RG    -0.633859   -0.588063   -0.762069   -0.430799  -0.653531   \n",
            "ALLdaub4RB    -0.721925   -0.595458   -0.769413   -0.514026  -0.644212   \n",
            "\n",
            "               EntropyRG  EntropyRB  ALLdaub4RR  ALLdaub4RG  ALLdaub4RB  \n",
            "AREA           -0.393124  -0.506256   -0.353446   -0.380747   -0.376277  \n",
            "PERIMETER      -0.294308  -0.416802   -0.451028   -0.468571   -0.448409  \n",
            "MAJOR_AXIS     -0.167972  -0.297395   -0.530231   -0.538497   -0.506782  \n",
            "MINOR_AXIS     -0.501442  -0.585234   -0.196256   -0.231847   -0.246312  \n",
            "ECCENTRICITY    0.463969   0.442189   -0.252331   -0.238875   -0.180563  \n",
            "EQDIASQ        -0.376846  -0.490680   -0.372169   -0.408394   -0.400709  \n",
            "SOLIDITY       -0.040841  -0.057491    0.076950    0.054499    0.052089  \n",
            "CONVEX_AREA    -0.390580  -0.503137   -0.358603   -0.385656   -0.380788  \n",
            "EXTENT         -0.207224  -0.179696    0.352850    0.337605    0.321010  \n",
            "ASPECT_RATIO    0.061742   0.067152   -0.010716    0.076399    0.076425  \n",
            "ROUNDNESS      -0.278781  -0.234206    0.342438    0.294489    0.241072  \n",
            "COMPACTNESS    -0.458266  -0.435170    0.295786    0.247006    0.195307  \n",
            "SHAPEFACTOR_1   0.069828   0.078976    0.003752    0.091702    0.091083  \n",
            "SHAPEFACTOR_2   0.202332   0.321948    0.487202    0.507461    0.480724  \n",
            "SHAPEFACTOR_3  -0.472133  -0.448471    0.296955    0.264663    0.209016  \n",
            "SHAPEFACTOR_4   0.132904   0.092439   -0.140085   -0.153357   -0.141754  \n",
            "MeanRR         -0.674269  -0.544138    1.000000    0.973357    0.941838  \n",
            "MeanRG         -0.658278  -0.514420    0.973355    1.000000    0.954572  \n",
            "MeanRB         -0.639031  -0.573754    0.941831    0.954568    1.000000  \n",
            "StdDevRR       -0.437859  -0.332210    0.732999    0.678030    0.652152  \n",
            "StdDevRG       -0.373620  -0.304348    0.524320    0.462155    0.453604  \n",
            "StdDevRB       -0.482771  -0.446135    0.593628    0.538885    0.526035  \n",
            "SkewRR          0.505571   0.393698   -0.867216   -0.831862   -0.802732  \n",
            "SkewRG          0.582712   0.464220   -0.933308   -0.912085   -0.891634  \n",
            "SkewRB          0.337443   0.317338   -0.642347   -0.633859   -0.721925  \n",
            "KurtosisRR      0.415812   0.361340   -0.667044   -0.588063   -0.595458  \n",
            "KurtosisRG      0.508634   0.428476   -0.822967   -0.762069   -0.769413  \n",
            "KurtosisRB      0.181859   0.175200   -0.467168   -0.430799   -0.514026  \n",
            "EntropyRR       0.981412   0.937108   -0.706130   -0.653531   -0.644212  \n",
            "EntropyRG       1.000000   0.950605   -0.674270   -0.658265   -0.639006  \n",
            "EntropyRB       0.950605   1.000000   -0.544139   -0.514406   -0.573723  \n",
            "ALLdaub4RR     -0.674270  -0.544139    1.000000    0.973357    0.941838  \n",
            "ALLdaub4RG     -0.658265  -0.514406    0.973357    1.000000    0.954572  \n",
            "ALLdaub4RB     -0.639006  -0.573723    0.941838    0.954572    1.000000  \n",
            "\n",
            "[34 rows x 34 columns]\n"
          ]
        },
        {
          "name": "stderr",
          "output_type": "stream",
          "text": [
            "C:\\Users\\fatih\\AppData\\Local\\Temp\\ipykernel_11700\\2517010338.py:1: FutureWarning: The default value of numeric_only in DataFrame.corr is deprecated. In a future version, it will default to False. Select only valid columns or specify the value of numeric_only to silence this warning.\n",
            "  print(dataset.corr())\n"
          ]
        }
      ],
      "source": [
        "print(dataset.corr())\n"
      ]
    },
    {
      "cell_type": "code",
      "execution_count": 7,
      "metadata": {
        "colab": {
          "base_uri": "https://localhost:8080/",
          "height": 217
        },
        "id": "pMMq7wbkNPZe",
        "outputId": "be40c622-1555-4925-df16-f3d4a34718e8"
      },
      "outputs": [
        {
          "name": "stdout",
          "output_type": "stream",
          "text": [
            "[0 0 0 0 0 0 0 0 0 0 0 0 0 0 0 0 0 0 0 0 0 0 0 0 0 0 0 0 0 0 0 0 0 0 0 0 0\n",
            " 0 0 0 0 0 0 0 0 0 0 0 0 0 0 0 0 0 0 0 0 0 0 0 0 0 0 0 0 1 1 1 1 1 1 1 1 1\n",
            " 1 1 1 1 1 1 1 1 1 1 1 1 1 1 1 1 1 1 1 1 1 1 1 1 1 1 1 1 1 1 1 1 1 1 1 1 1\n",
            " 1 1 1 1 1 1 1 1 1 1 1 1 1 1 1 1 1 1 1 1 1 1 1 1 1 1 1 1 1 1 1 1 1 1 1 1 1\n",
            " 1 1 1 1 1 1 1 1 1 1 1 1 1 1 1 2 2 2 2 2 2 2 2 2 2 2 2 2 2 2 2 2 2 2 2 2 2\n",
            " 2 2 2 2 2 2 2 2 2 2 2 2 2 2 2 2 2 2 2 2 2 2 2 2 2 2 2 2 2 2 2 2 2 2 2 2 2\n",
            " 2 2 2 2 2 2 2 2 2 2 2 2 2 2 2 2 2 2 2 2 2 2 2 2 2 2 2 2 2 2 2 2 2 2 2 2 2\n",
            " 2 2 2 2 2 2 2 2 2 2 2 2 2 2 2 2 2 2 2 2 2 2 2 2 2 2 2 2 2 2 2 2 2 2 2 2 2\n",
            " 2 2 2 2 2 2 2 2 2 2 2 2 2 2 2 2 2 2 2 2 2 2 2 2 2 2 2 2 2 2 2 2 2 2 2 2 2\n",
            " 2 2 2 2 2 2 2 2 2 2 2 2 2 2 2 2 2 2 2 2 2 2 2 2 2 2 2 2 2 2 2 2 2 2 3 3 3\n",
            " 3 3 3 3 3 3 3 3 3 3 3 3 3 3 3 3 3 3 3 3 3 3 3 3 3 3 3 3 3 3 3 3 3 3 3 3 3\n",
            " 3 3 3 3 3 3 3 3 3 3 3 3 3 3 3 3 3 3 3 3 3 3 3 3 3 3 3 3 3 3 3 3 4 4 4 4 4\n",
            " 4 4 4 4 4 4 4 4 4 4 4 4 4 4 4 4 4 4 4 4 4 4 4 4 4 4 4 4 4 4 4 4 4 4 4 4 4\n",
            " 4 4 4 4 4 4 4 4 4 4 4 4 4 4 4 4 4 4 4 4 4 4 4 4 4 4 4 4 4 4 4 4 4 4 4 4 4\n",
            " 4 4 4 4 4 4 4 4 4 4 4 4 4 4 4 4 4 4 4 4 4 4 4 4 4 4 4 4 4 4 4 4 4 4 4 4 4\n",
            " 4 4 4 4 4 4 4 4 4 4 4 4 4 4 4 4 4 4 4 4 4 4 4 4 4 4 4 4 4 4 4 4 4 4 4 4 4\n",
            " 4 4 4 4 4 4 4 4 4 4 4 4 4 5 5 5 5 5 5 5 5 5 5 5 5 5 5 5 5 5 5 5 5 5 5 5 5\n",
            " 5 5 5 5 5 5 5 5 5 5 5 5 5 5 5 5 5 5 5 5 5 5 5 5 5 5 5 5 5 5 5 5 5 5 5 5 5\n",
            " 5 5 5 5 5 5 5 5 5 5 5 5 5 5 5 5 5 5 5 5 5 5 5 5 5 5 5 5 5 5 5 5 5 5 5 5 5\n",
            " 5 5 5 5 5 5 5 5 5 5 5 5 5 5 5 5 5 5 5 5 5 5 5 5 5 5 5 5 5 5 5 5 5 5 5 5 5\n",
            " 5 5 5 5 5 5 5 5 5 5 5 5 5 5 5 5 5 5 5 5 5 5 5 5 5 5 5 5 5 5 5 5 5 5 5 5 5\n",
            " 5 5 5 5 5 5 5 5 5 5 5 5 5 5 5 5 5 5 5 5 5 5 5 5 5 5 5 6 6 6 6 6 6 6 6 6 6\n",
            " 6 6 6 6 6 6 6 6 6 6 6 6 6 6 6 6 6 6 6 6 6 6 6 6 6 6 6 6 6 6 6 6 6 6 6 6 6\n",
            " 6 6 6 6 6 6 6 6 6 6 6 6 6 6 6 6 6 6 6 6 6 6 6 6 6 6 6 6 6 6 6 6 6 6 6 6 6\n",
            " 6 6 6 6 6 6 6 6 6 6]\n"
          ]
        }
      ],
      "source": [
        "from sklearn.preprocessing import LabelEncoder\n",
        "le=LabelEncoder()\n",
        "ysample=le.fit_transform(ysample)\n",
        "print(ysample)"
      ]
    },
    {
      "cell_type": "code",
      "execution_count": 8,
      "metadata": {
        "id": "bIbUvB6wNPZe"
      },
      "outputs": [
        {
          "name": "stdout",
          "output_type": "stream",
          "text": [
            "[0 0 0 0 0 0 0 0 0 0 0 0 0 0 0 0 0 0 0 0 0 0 0 0 0 0 0 0 0 0 0 0 0 0 0 0 0\n",
            " 0 0 0 0 0 0 0 0 0 0 0 0 0 0 0 0 0 0 0 0 0 0 0 0 0 0 0 0 1 1 1 1 1 1 1 1 1\n",
            " 1 1 1 1 1 1 1 1 1 1 1 1 1 1 1 1 1 1 1 1 1 1 1 1 1 1 1 1 1 1 1 1 1 1 1 1 1\n",
            " 1 1 1 1 1 1 1 1 1 1 1 1 1 1 1 1 1 1 1 1 1 1 1 1 1 1 1 1 1 1 1 1 1 1 1 1 1\n",
            " 1 1 1 1 1 1 1 1 1 1 1 1 1 1 1 2 2 2 2 2 2 2 2 2 2 2 2 2 2 2 2 2 2 2 2 2 2\n",
            " 2 2 2 2 2 2 2 2 2 2 2 2 2 2 2 2 2 2 2 2 2 2 2 2 2 2 2 2 2 2 2 2 2 2 2 2 2\n",
            " 2 2 2 2 2 2 2 2 2 2 2 2 2 2 2 2 2 2 2 2 2 2 2 2 2 2 2 2 2 2 2 2 2 2 2 2 2\n",
            " 2 2 2 2 2 2 2 2 2 2 2 2 2 2 2 2 2 2 2 2 2 2 2 2 2 2 2 2 2 2 2 2 2 2 2 2 2\n",
            " 2 2 2 2 2 2 2 2 2 2 2 2 2 2 2 2 2 2 2 2 2 2 2 2 2 2 2 2 2 2 2 2 2 2 2 2 2\n",
            " 2 2 2 2 2 2 2 2 2 2 2 2 2 2 2 2 2 2 2 2 2 2 2 2 2 2 2 2 2 2 2 2 2 2 3 3 3\n",
            " 3 3 3 3 3 3 3 3 3 3 3 3 3 3 3 3 3 3 3 3 3 3 3 3 3 3 3 3 3 3 3 3 3 3 3 3 3\n",
            " 3 3 3 3 3 3 3 3 3 3 3 3 3 3 3 3 3 3 3 3 3 3 3 3 3 3 3 3 3 3 3 3 4 4 4 4 4\n",
            " 4 4 4 4 4 4 4 4 4 4 4 4 4 4 4 4 4 4 4 4 4 4 4 4 4 4 4 4 4 4 4 4 4 4 4 4 4\n",
            " 4 4 4 4 4 4 4 4 4 4 4 4 4 4 4 4 4 4 4 4 4 4 4 4 4 4 4 4 4 4 4 4 4 4 4 4 4\n",
            " 4 4 4 4 4 4 4 4 4 4 4 4 4 4 4 4 4 4 4 4 4 4 4 4 4 4 4 4 4 4 4 4 4 4 4 4 4\n",
            " 4 4 4 4 4 4 4 4 4 4 4 4 4 4 4 4 4 4 4 4 4 4 4 4 4 4 4 4 4 4 4 4 4 4 4 4 4\n",
            " 4 4 4 4 4 4 4 4 4 4 4 4 4 5 5 5 5 5 5 5 5 5 5 5 5 5 5 5 5 5 5 5 5 5 5 5 5\n",
            " 5 5 5 5 5 5 5 5 5 5 5 5 5 5 5 5 5 5 5 5 5 5 5 5 5 5 5 5 5 5 5 5 5 5 5 5 5\n",
            " 5 5 5 5 5 5 5 5 5 5 5 5 5 5 5 5 5 5 5 5 5 5 5 5 5 5 5 5 5 5 5 5 5 5 5 5 5\n",
            " 5 5 5 5 5 5 5 5 5 5 5 5 5 5 5 5 5 5 5 5 5 5 5 5 5 5 5 5 5 5 5 5 5 5 5 5 5\n",
            " 5 5 5 5 5 5 5 5 5 5 5 5 5 5 5 5 5 5 5 5 5 5 5 5 5 5 5 5 5 5 5 5 5 5 5 5 5\n",
            " 5 5 5 5 5 5 5 5 5 5 5 5 5 5 5 5 5 5 5 5 5 5 5 5 5 5 5 6 6 6 6 6 6 6 6 6 6\n",
            " 6 6 6 6 6 6 6 6 6 6 6 6 6 6 6 6 6 6 6 6 6 6 6 6 6 6 6 6 6 6 6 6 6 6 6 6 6\n",
            " 6 6 6 6 6 6 6 6 6 6 6 6 6 6 6 6 6 6 6 6 6 6 6 6 6 6 6 6 6 6 6 6 6 6 6 6 6\n",
            " 6 6 6 6 6 6 6 6 6 6]\n"
          ]
        }
      ],
      "source": [
        "print(ysample) #label encoded ysample\n"
      ]
    },
    {
      "cell_type": "code",
      "execution_count": 9,
      "metadata": {
        "id": "4UUNF2pxNPZf",
        "outputId": "dfae538c-158a-4c3a-dbf1-d055e5188854"
      },
      "outputs": [
        {
          "name": "stdout",
          "output_type": "stream",
          "text": [
            "(719, 34)\n",
            "(89, 34)\n",
            "(90, 34)\n",
            "(719,)\n",
            "(89,)\n",
            "(90,)\n"
          ]
        }
      ],
      "source": [
        "from sklearn.model_selection import train_test_split\n",
        "XTrain,XVal,yTrain,yVal=train_test_split(xsample,ysample,test_size=0.10, random_state=24)\n",
        "XTrain,XTest,yTrain, yTest=train_test_split(XTrain,yTrain, test_size=0.11, random_state=24)\n",
        "\n",
        "print(XTrain. shape) \n",
        "print(XTest.shape)\n",
        "print(XVal.shape) \n",
        "print(yTrain.shape) \n",
        "print(yTest.shape) \n",
        "print(yVal. shape)"
      ]
    },
    {
      "cell_type": "code",
      "execution_count": 10,
      "metadata": {
        "id": "yFgChOT6NPZf",
        "outputId": "ff510e8d-1d0c-44d6-c18c-b70f185c50bb"
      },
      "outputs": [
        {
          "name": "stdout",
          "output_type": "stream",
          "text": [
            "[[ 0.08924461  0.88327697  0.94895836 ... -1.64601338 -1.41444063\n",
            "  -1.00887381]\n",
            " [ 0.5491457   0.99708582  0.9533216  ... -1.58141767 -1.40377434\n",
            "  -1.21870885]\n",
            " [ 0.93795891  0.93151078  0.86177224 ...  0.14971113 -0.00341262\n",
            "   0.38937135]\n",
            " ...\n",
            " [ 0.08905069  0.13270532 -0.24399864 ... -0.11341413 -0.66960887\n",
            "  -0.25862735]\n",
            " [ 0.79995718  0.57632181  0.24673471 ... -0.63409531 -0.54964149\n",
            "  -0.81862622]\n",
            " [-1.54245216 -1.63018393 -1.65380384 ...  1.79882824  2.25108905\n",
            "   1.84161408]]\n"
          ]
        }
      ],
      "source": [
        "from sklearn.preprocessing import StandardScaler, Normalizer\n",
        "sc=StandardScaler()\n",
        "XTrain=sc.fit_transform(XTrain)\n",
        "XTest=sc.fit_transform(XTest)\n",
        "XVal=sc.fit_transform(XVal)\n",
        "print(XTrain)\n"
      ]
    },
    {
      "cell_type": "code",
      "execution_count": 11,
      "metadata": {
        "id": "rZ3inN45NPZg",
        "outputId": "db364168-0f81-401c-e15a-4d24403ed595"
      },
      "outputs": [
        {
          "name": "stdout",
          "output_type": "stream",
          "text": [
            "[5 5 4 6 2 5 6 5 6 4 5 5 2 5 3 3 5 1 2 1 5 4 2 2 6 4 3 5 5 4 4 1 0 2 5 5 5\n",
            " 5 5 5 0 1 0 2 1 0 2 5 5 3 2 6 5 2 0 0 5 6 3 5 2 5 6 4 4 6 2 5 2 5 2 0 5 1\n",
            " 4 5 4 5 2 5 4 1 2 1 5 2 2 4 4 2 5 5 1 2 4 2 2 4 3 1 5 2 2 0 6 4 4 6 5 1 4\n",
            " 4 5 2 2 4 6 2 4 3 5 0 4 3 5 4 4 5 1 5 4 2 4 4 1 4 0 4 5 2 2 6 4 5 2 2 5 1\n",
            " 2 5 2 6 1 4 2 5 6 2 2 4 2 2 4 1 1 2 4 4 4 4 5 2 5 3 5 4 1 0 4 4 4 0 5 6 6\n",
            " 5 3 0 3 2 2 3 4 3 6 6 3 2 5 4 3 5 2 2 4 0 4 2 3 4 2 6 1 6 2 2 2 4 4 5 5 1\n",
            " 2 6 2 2 1 4 2 4 1 4 1 2 2 4 4 4 2 3 5 0 1 5 2 4 1 0 2 1 4 1 0 4 1 3 4 1 3\n",
            " 4 4 4 4 4 2 2 0 3 6 5 5 4 5 3 3 1 5 5 1 5 6 5 2 4 5 4 5 5 5 6 1 4 2 2 2 2\n",
            " 5 4 5 3 5 6 5 2 5 4 5 6 5 5 2 5 4 4 3 5 2 3 6 0 5 4 4 4 3 6 4 6 6 1 3 5 0\n",
            " 2 3 1 6 2 5 2 4 5 5 2 2 2 5 4 5 4 5 2 1 5 3 4 5 6 3 3 1 2 4 6 3 4 2 2 2 1\n",
            " 5 2 1 5 2 0 2 6 5 0 2 5 5 1 5 5 2 6 2 5 1 3 3 6 1 5 4 0 6 1 2 6 4 3 3 4 0\n",
            " 2 5 5 2 0 5 6 0 0 4 5 1 2 4 5 4 6 1 1 5 4 5 6 4 4 2 3 2 4 4 4 2 3 5 2 3 4\n",
            " 5 2 5 6 3 5 0 2 3 5 1 5 5 4 2 2 1 5 2 4 2 2 2 1 2 6 2 4 2 5 2 5 2 2 6 2 2\n",
            " 2 2 3 3 6 3 5 3 6 5 5 3 6 5 5 5 6 2 4 1 5 3 2 3 4 4 2 2 5 6 2 2 2 5 2 2 2\n",
            " 2 2 1 6 2 5 2 0 5 5 5 1 2 4 2 5 0 3 5 6 3 5 5 2 0 4 4 3 2 4 2 4 1 1 6 3 2\n",
            " 2 6 3 3 2 3 1 1 6 6 2 1 1 2 5 6 1 1 4 4 3 3 2 4 2 4 2 4 0 4 5 6 5 5 4 0 5\n",
            " 6 1 5 0 1 0 3 0 1 2 1 2 6 4 1 4 5 2 5 1 5 5 5 2 2 0 4 4 0 4 2 3 5 4 2 5 5\n",
            " 3 4 5 0 2 6 2 0 2 0 2 4 1 3 2 1 1 5 0 6 2 5 6 2 1 2 1 5 2 1 1 1 1 3 2 6 4\n",
            " 0 0 1 2 5 5 5 4 1 0 2 2 6 4 5 4 2 5 5 0 2 5 4 3 1 1 0 3 4 6 6 2 6 2 6 2 1\n",
            " 5 5 4 4 5 1 6 2 4 2 4 3 6 6 3 2]\n",
            "[5 5 4 1 2 5 6 5 6 3 5 5 2 5 3 3 5 1 2 1 5 4 2 2 6 4 3 5 5 4 4 1 0 2 5 5 5\n",
            " 5 5 5 0 2 0 2 1 0 1 5 5 3 2 1 5 2 0 0 5 6 3 5 2 5 6 4 4 6 2 5 2 5 1 0 5 2\n",
            " 4 5 4 5 2 5 4 6 2 1 5 2 2 6 4 2 5 5 1 2 4 2 2 4 3 1 5 2 2 0 6 4 4 6 5 1 4\n",
            " 4 5 2 2 4 1 2 4 3 5 0 4 3 5 4 1 5 1 5 4 2 4 4 1 4 0 4 5 2 2 6 4 5 2 2 5 1\n",
            " 2 5 2 6 2 4 2 5 6 2 2 4 2 2 0 1 1 2 4 4 4 4 5 2 5 0 5 6 1 0 4 4 4 0 5 6 6\n",
            " 5 3 3 3 2 2 3 4 3 6 6 3 2 5 4 3 5 2 2 4 0 4 2 3 4 2 6 1 6 2 2 2 4 6 5 5 1\n",
            " 2 6 2 2 1 4 2 4 1 4 6 2 2 4 4 4 2 3 5 0 1 5 2 4 1 0 2 1 3 6 0 4 1 3 6 1 3\n",
            " 4 4 4 4 4 2 2 0 3 6 5 5 4 5 3 3 1 5 5 4 5 6 5 2 4 5 4 5 5 5 6 1 4 2 2 2 2\n",
            " 5 4 5 3 5 6 5 2 5 4 5 6 5 5 2 5 4 4 3 5 2 0 6 0 5 4 4 4 3 6 4 6 6 1 3 5 0\n",
            " 2 3 1 6 2 5 2 4 5 5 2 2 2 5 4 5 4 5 2 2 5 3 4 6 6 0 3 1 2 4 6 3 4 2 2 2 1\n",
            " 5 2 1 5 2 0 2 5 5 3 2 5 5 6 5 5 2 6 2 5 1 3 3 1 1 5 6 0 6 1 2 6 0 3 3 4 0\n",
            " 2 5 5 2 0 5 6 0 0 4 5 1 2 4 5 4 6 1 1 5 4 5 6 4 6 2 3 2 4 4 4 2 3 5 2 3 4\n",
            " 5 2 5 6 3 5 3 2 3 5 1 5 5 4 2 2 1 5 2 4 2 2 2 1 2 6 2 4 2 5 2 1 2 2 6 2 2\n",
            " 2 2 3 3 6 3 5 3 6 5 5 3 6 5 5 5 4 2 4 1 5 3 2 3 4 4 2 2 5 6 2 2 2 5 2 2 2\n",
            " 2 2 1 6 2 5 1 0 5 5 5 1 2 4 2 5 0 3 5 6 3 5 5 2 0 4 4 3 2 4 2 4 1 1 6 3 2\n",
            " 2 6 3 3 2 3 1 6 1 6 2 1 1 2 5 6 1 1 4 4 3 3 2 4 2 4 2 4 0 4 5 1 5 5 4 0 5\n",
            " 6 2 5 0 1 0 3 0 2 2 1 2 6 4 1 4 5 2 5 1 5 5 5 2 2 0 4 4 0 4 2 3 5 4 2 5 5\n",
            " 3 4 5 0 2 6 2 0 2 0 2 4 1 0 2 1 2 5 0 6 2 5 6 2 1 2 1 5 2 1 1 1 1 3 2 6 4\n",
            " 0 0 4 2 5 5 5 4 1 0 2 2 6 4 5 4 2 5 5 0 2 5 4 0 1 1 0 3 0 6 6 2 6 2 6 2 1\n",
            " 5 5 4 4 5 1 6 1 4 2 4 3 6 6 0 2]\n"
          ]
        }
      ],
      "source": [
        "from sklearn.neighbors import KNeighborsClassifier\n",
        "classifier= KNeighborsClassifier(n_neighbors=5, metric='minkowski', p=2)\n",
        "classifier.fit(XTrain,yTrain) #train itself and check it from yTrain\n",
        "yTrainPred=classifier.predict(XTrain)\n",
        "print(yTrainPred) #written estimated values\n",
        "print(yTrain) #real values\n"
      ]
    },
    {
      "cell_type": "code",
      "execution_count": 12,
      "metadata": {
        "id": "TlGZaqKyNPZg",
        "outputId": "01b7d5b6-9514-41cb-8c52-006e0570cc78"
      },
      "outputs": [
        {
          "name": "stdout",
          "output_type": "stream",
          "text": [
            "              precision    recall  f1-score   support\n",
            "\n",
            "           0       0.94      0.83      0.88        53\n",
            "           1       0.82      0.85      0.84        78\n",
            "           2       0.98      0.96      0.97       171\n",
            "           3       0.91      0.92      0.92        65\n",
            "           4       0.91      0.98      0.94       121\n",
            "           5       0.99      0.99      0.99       156\n",
            "           6       0.89      0.84      0.86        75\n",
            "\n",
            "    accuracy                           0.93       719\n",
            "   macro avg       0.92      0.91      0.91       719\n",
            "weighted avg       0.93      0.93      0.93       719\n",
            "\n"
          ]
        },
        {
          "data": {
            "image/png": "[encoded data removed]",
            "text/plain": [
              "<Figure size 640x480 with 2 Axes>"
            ]
          },
          "metadata": {},
          "output_type": "display_data"
        }
      ],
      "source": [
        "from sklearn.metrics import classification_report, ConfusionMatrixDisplay, confusion_matrix\n",
        "print(classification_report(yTrain, yTrainPred))\n",
        "cm=confusion_matrix(yTrain, yTrainPred, normalize=\"true\").round (2)\n",
        "#cmn=cm.astype('float') / cm.sum(axis=1)[:, np.newaxis] \n",
        "#cmn=cmn.round(2)\n",
        "disp=ConfusionMatrixDisplay(confusion_matrix=cm) \n",
        "disp=disp.plot(cmap=plt.cm.GnBu, values_format='g')\n",
        "plt.title(f\"Train Confusion Matrix\", style=\"italic\") \n",
        "#plt.savefig(f \"Model2_CM_8901_(self.header)_Data_Son.jpg\")\n",
        "plt.show()"
      ]
    },
    {
      "cell_type": "code",
      "execution_count": 13,
      "metadata": {
        "id": "tykx-MwGNPZh",
        "outputId": "0b2ff2e1-02d8-4b75-e424-f820a9959bac"
      },
      "outputs": [
        {
          "name": "stdout",
          "output_type": "stream",
          "text": [
            "              precision    recall  f1-score   support\n",
            "\n",
            "           0       1.00      0.86      0.92         7\n",
            "           1       0.83      1.00      0.91         5\n",
            "           2       0.94      1.00      0.97        17\n",
            "           3       0.80      1.00      0.89         4\n",
            "           4       1.00      0.96      0.98        24\n",
            "           5       1.00      1.00      1.00        22\n",
            "           6       0.89      0.80      0.84        10\n",
            "\n",
            "    accuracy                           0.96        89\n",
            "   macro avg       0.92      0.95      0.93        89\n",
            "weighted avg       0.96      0.96      0.95        89\n",
            "\n"
          ]
        },
        {
          "data": {
            "text/plain": [
              "Text(0.5, 1.0, 'Train Confusion Matrix')"
            ]
          },
          "execution_count": 13,
          "metadata": {},
          "output_type": "execute_result"
        },
        {
          "data": {
            "image/png": "[encoded data removed]",
            "text/plain": [
              "<Figure size 640x480 with 2 Axes>"
            ]
          },
          "metadata": {},
          "output_type": "display_data"
        }
      ],
      "source": [
        "from sklearn.metrics import classification_report\n",
        "\n",
        "yPred=classifier.predict(XTest)\n",
        "\n",
        "print(classification_report(yTest, yPred))\n",
        "cm=confusion_matrix(yTrain, yTrainPred, normalize=\"true\").round (2)\n",
        "#cmn=cm.astype('float') / cm.sum(axis=1)[:, np.newaxis] \n",
        "#cmn=cmn.round(2)\n",
        "disp=ConfusionMatrixDisplay(confusion_matrix=cm) \n",
        "disp=disp.plot(cmap=plt.cm.GnBu_r, values_format='g')\n",
        "plt.title(f\"Train Confusion Matrix\", style=\"italic\") \n",
        "#plt.savefig(f \"Model2_CM_8901_(self.header)_Data_Son.jpg\")\n"
      ]
    }
  ],
  "metadata": {
    "colab": {
      "provenance": []
    },
    "kernelspec": {
      "display_name": "merto",
      "language": "python",
      "name": "python3"
    },
    "language_info": {
      "codemirror_mode": {
        "name": "ipython",
        "version": 3
      },
      "file_extension": ".py",
      "mimetype": "text/x-python",
      "name": "python",
      "nbconvert_exporter": "python",
      "pygments_lexer": "ipython3",
      "version": "3.9.15"
    },
    "orig_nbformat": 4,
    "vscode": {
      "interpreter": {
        "hash": "b06118c3777d27356ade61c14fc8ed98956a789707dbfd91098a7e8824e5c799"
      }
    }
  },
  "nbformat": 4,
  "nbformat_minor": 0
}
